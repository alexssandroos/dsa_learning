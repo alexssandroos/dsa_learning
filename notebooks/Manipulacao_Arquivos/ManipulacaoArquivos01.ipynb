{
 "cells": [
  {
   "cell_type": "markdown",
   "metadata": {},
   "source": [
    "# Manipulacao de arquivos"
   ]
  },
  {
   "cell_type": "code",
   "execution_count": 19,
   "metadata": {},
   "outputs": [],
   "source": [
    "arquivo = open('../datasets/arquivo1.txt')\n",
    "# Fechar o arquivo \n",
    "# arquivo.close()\n",
    "# Padrao de abertura em modo de leitura 'r'"
   ]
  },
  {
   "cell_type": "code",
   "execution_count": 20,
   "metadata": {},
   "outputs": [
    {
     "name": "stdout",
     "output_type": "stream",
     "text": [
      "Testando gravação de arquivos em Python  Acrescentando conteúdo\n"
     ]
    }
   ],
   "source": [
    "# Leitura\n",
    "print(arquivo.read())"
   ]
  },
  {
   "cell_type": "code",
   "execution_count": 21,
   "metadata": {},
   "outputs": [
    {
     "name": "stdout",
     "output_type": "stream",
     "text": [
      "66\n"
     ]
    }
   ],
   "source": [
    "# tamanho \n",
    "print(arquivo.tell())"
   ]
  },
  {
   "cell_type": "code",
   "execution_count": 22,
   "metadata": {},
   "outputs": [
    {
     "name": "stdout",
     "output_type": "stream",
     "text": [
      "\n"
     ]
    }
   ],
   "source": [
    "# Leitura primeiros 10 caracteres\n",
    "print(arquivo.read(10))"
   ]
  },
  {
   "cell_type": "code",
   "execution_count": 23,
   "metadata": {},
   "outputs": [],
   "source": [
    "arquivo.close()"
   ]
  },
  {
   "cell_type": "code",
   "execution_count": 30,
   "metadata": {},
   "outputs": [],
   "source": [
    "arquivo2 = open('../datasets/salarios.csv')"
   ]
  },
  {
   "cell_type": "code",
   "execution_count": 31,
   "metadata": {},
   "outputs": [],
   "source": [
    "dados = arquivo2.read()\n",
    "linhas = dados.split('\\n')\n",
    "dados_completos = []"
   ]
  },
  {
   "cell_type": "code",
   "execution_count": 32,
   "metadata": {},
   "outputs": [],
   "source": [
    "for linha in linhas:\n",
    "    linha_quebrada = linha.split(',')\n",
    "    dados_completos.append(linha_quebrada)"
   ]
  },
  {
   "cell_type": "code",
   "execution_count": 36,
   "metadata": {},
   "outputs": [
    {
     "name": "stdout",
     "output_type": "stream",
     "text": [
      "[['Name', 'Position Title', 'Department', 'Employee Annual Salary'], ['\"AARON', '  ELVIA J\"', 'WATER RATE TAKER', 'WATER MGMNT', '$88968.00'], ['\"AARON', '  JEFFERY M\"', 'POLICE OFFICER', 'POLICE', '$80778.00'], ['\"AARON', '  KARINA\"', 'POLICE OFFICER', 'POLICE', '$80778.00'], ['\"AARON', '  KIMBERLEI R\"', 'CHIEF CONTRACT EXPEDITER', 'GENERAL SERVICES', '$84780.00'], ['\"ABAD JR', '  VICENTE M\"', 'CIVIL ENGINEER IV', 'WATER MGMNT', '$104736.00'], ['\"ABARCA', '  ANABEL\"', 'ASST TO THE ALDERMAN', 'CITY COUNCIL', '$70764.00'], ['\"ABARCA', '  EMMANUEL\"', 'GENERAL LABORER - DSS', 'STREETS & SAN', '$40560.00'], ['\"ABBATACOLA', '  ROBERT J\"', 'ELECTRICAL MECHANIC', 'AVIATION', '$91520.00'], ['\"ABBATEMARCO', '  JAMES J\"', 'FIRE ENGINEER', 'FIRE', '$90456.00']]\n"
     ]
    }
   ],
   "source": [
    "# imprime dez primeiras linhas\n",
    "print(dados_completos[0:10])"
   ]
  },
  {
   "cell_type": "code",
   "execution_count": 38,
   "metadata": {},
   "outputs": [],
   "source": [
    "# importando com pandas\n",
    "import pandas as pd\n",
    "df = pd.read_csv('../datasets/salarios.csv')"
   ]
  },
  {
   "cell_type": "code",
   "execution_count": 41,
   "metadata": {},
   "outputs": [
    {
     "data": {
      "text/html": [
       "<div>\n",
       "<style scoped>\n",
       "    .dataframe tbody tr th:only-of-type {\n",
       "        vertical-align: middle;\n",
       "    }\n",
       "\n",
       "    .dataframe tbody tr th {\n",
       "        vertical-align: top;\n",
       "    }\n",
       "\n",
       "    .dataframe thead th {\n",
       "        text-align: right;\n",
       "    }\n",
       "</style>\n",
       "<table border=\"1\" class=\"dataframe\">\n",
       "  <thead>\n",
       "    <tr style=\"text-align: right;\">\n",
       "      <th></th>\n",
       "      <th>Name</th>\n",
       "      <th>Position Title</th>\n",
       "      <th>Department</th>\n",
       "      <th>Employee Annual Salary</th>\n",
       "    </tr>\n",
       "  </thead>\n",
       "  <tbody>\n",
       "    <tr>\n",
       "      <th>0</th>\n",
       "      <td>AARON,  ELVIA J</td>\n",
       "      <td>WATER RATE TAKER</td>\n",
       "      <td>WATER MGMNT</td>\n",
       "      <td>$88968.00</td>\n",
       "    </tr>\n",
       "    <tr>\n",
       "      <th>1</th>\n",
       "      <td>AARON,  JEFFERY M</td>\n",
       "      <td>POLICE OFFICER</td>\n",
       "      <td>POLICE</td>\n",
       "      <td>$80778.00</td>\n",
       "    </tr>\n",
       "    <tr>\n",
       "      <th>2</th>\n",
       "      <td>AARON,  KARINA</td>\n",
       "      <td>POLICE OFFICER</td>\n",
       "      <td>POLICE</td>\n",
       "      <td>$80778.00</td>\n",
       "    </tr>\n",
       "    <tr>\n",
       "      <th>3</th>\n",
       "      <td>AARON,  KIMBERLEI R</td>\n",
       "      <td>CHIEF CONTRACT EXPEDITER</td>\n",
       "      <td>GENERAL SERVICES</td>\n",
       "      <td>$84780.00</td>\n",
       "    </tr>\n",
       "    <tr>\n",
       "      <th>4</th>\n",
       "      <td>ABAD JR,  VICENTE M</td>\n",
       "      <td>CIVIL ENGINEER IV</td>\n",
       "      <td>WATER MGMNT</td>\n",
       "      <td>$104736.00</td>\n",
       "    </tr>\n",
       "  </tbody>\n",
       "</table>\n",
       "</div>"
      ],
      "text/plain": [
       "                  Name            Position Title        Department  \\\n",
       "0      AARON,  ELVIA J          WATER RATE TAKER       WATER MGMNT   \n",
       "1    AARON,  JEFFERY M            POLICE OFFICER            POLICE   \n",
       "2       AARON,  KARINA            POLICE OFFICER            POLICE   \n",
       "3  AARON,  KIMBERLEI R  CHIEF CONTRACT EXPEDITER  GENERAL SERVICES   \n",
       "4  ABAD JR,  VICENTE M         CIVIL ENGINEER IV       WATER MGMNT   \n",
       "\n",
       "  Employee Annual Salary  \n",
       "0              $88968.00  \n",
       "1              $80778.00  \n",
       "2              $80778.00  \n",
       "3              $84780.00  \n",
       "4             $104736.00  "
      ]
     },
     "execution_count": 41,
     "metadata": {},
     "output_type": "execute_result"
    }
   ],
   "source": [
    "df.head()"
   ]
  },
  {
   "cell_type": "markdown",
   "metadata": {},
   "source": [
    "### MANIPULANDO TXT"
   ]
  },
  {
   "cell_type": "code",
   "execution_count": 54,
   "metadata": {},
   "outputs": [],
   "source": [
    "import os\n",
    "# Silvio Santos ipsum\n",
    "texto = 'Silvio Santos Ipsum valendo um milho de reaisammm. Ma vai pra l. Valendo um milho de reaisammm. Ha hai. Bem boladoam, bem boladoam. Bem gozadoam. Ma o Silvio Santos Ipsum  muitoam interesanteam. Com ele ma voc vai gerar textuans ha haae. Ma vale drreaisam?  com voc Lombardiam. Ma voc, topa ou no topamm. Mah roda a roduamm. Mah ooooee vem pra c. Vem pra c. Voc veio da caravana de ondeammm? Um, dois trs, quatro, PIM, entendeuam? Wellintaaammmmmmmmm.'\n",
    "arquivo3 = open(os.path.join('../datasets/cientista.txt'),'w')"
   ]
  },
  {
   "cell_type": "code",
   "execution_count": 57,
   "metadata": {},
   "outputs": [],
   "source": [
    "for palavra in texto.split():\n",
    "    arquivo3.write(palavra+' ')\n",
    "    \n",
    "arquivo3.close()    "
   ]
  },
  {
   "cell_type": "code",
   "execution_count": 74,
   "metadata": {},
   "outputs": [
    {
     "data": {
      "text/plain": [
       "<function TextIOWrapper.close()>"
      ]
     },
     "execution_count": 74,
     "metadata": {},
     "output_type": "execute_result"
    }
   ],
   "source": [
    "with open('../datasets/cientista.txt', 'w') as arquivo4:\n",
    "    arquivo4.write(texto[:21])\n",
    "    arquivo4.write('\\n')\n",
    "    arquivo4.write(texto[:34])\n",
    "arquivo4.close"
   ]
  },
  {
   "cell_type": "code",
   "execution_count": 76,
   "metadata": {},
   "outputs": [
    {
     "name": "stdout",
     "output_type": "stream",
     "text": [
      "Silvio Santos Ipsum v\n",
      "Silvio Santos Ipsum valendo um mil\n"
     ]
    },
    {
     "data": {
      "text/plain": [
       "<function TextIOWrapper.close()>"
      ]
     },
     "execution_count": 76,
     "metadata": {},
     "output_type": "execute_result"
    }
   ],
   "source": [
    "arquivo4 = open('../datasets/cientista.txt', 'r')\n",
    "print(arquivo4.read())\n",
    "arquivo4.close"
   ]
  },
  {
   "cell_type": "markdown",
   "metadata": {},
   "source": [
    "### MANIPULANDO CSV"
   ]
  },
  {
   "cell_type": "code",
   "execution_count": 77,
   "metadata": {},
   "outputs": [],
   "source": [
    "import csv"
   ]
  },
  {
   "cell_type": "code",
   "execution_count": 79,
   "metadata": {},
   "outputs": [],
   "source": [
    "with open('../datasets/numeros.csv', 'w') as arquivo:\n",
    "    escritor = csv.writer(arquivo)\n",
    "    escritor.writerow(('Primeiro','Segundo','Terceiro'))\n",
    "    escritor.writerow((10,20,30))\n",
    "    escritor.writerow((11,21,31))"
   ]
  },
  {
   "cell_type": "code",
   "execution_count": 89,
   "metadata": {},
   "outputs": [
    {
     "name": "stdout",
     "output_type": "stream",
     "text": [
      "['Primeiro', 'Segundo', 'Terceiro']\n",
      "['10', '20', '30']\n",
      "['11', '21', '31']\n"
     ]
    }
   ],
   "source": [
    "with open('../datasets/numeros.csv', 'r') as arquivo:\n",
    "    leitor = csv.reader(arquivo)\n",
    "    for i in leitor:\n",
    "        print(i)"
   ]
  },
  {
   "cell_type": "markdown",
   "metadata": {},
   "source": [
    "### MANIPULANDO JSON"
   ]
  },
  {
   "cell_type": "code",
   "execution_count": 90,
   "metadata": {},
   "outputs": [],
   "source": [
    "import json"
   ]
  },
  {
   "cell_type": "code",
   "execution_count": 96,
   "metadata": {},
   "outputs": [
    {
     "name": "stdout",
     "output_type": "stream",
     "text": [
      "Nome - Alexssandro Oliveira\n",
      "Idade - 26\n",
      "Profissao - Analista de Sistemas\n"
     ]
    }
   ],
   "source": [
    "dicionario = {'Nome':'Alexssandro Oliveira',\n",
    "              'Idade': 26,\n",
    "               'Profissao': 'Analista de Sistemas'}\n",
    "\n",
    "# primeiro parametro key, segundo value \n",
    "for a, b in dicionario.items():\n",
    "    print(f'{a} - {b}')"
   ]
  },
  {
   "cell_type": "code",
   "execution_count": 99,
   "metadata": {},
   "outputs": [
    {
     "name": "stdout",
     "output_type": "stream",
     "text": [
      "{\"Nome\": \"Alexssandro Oliveira\", \"Idade\": 26, \"Profissao\": \"Analista de Sistemas\"}\n"
     ]
    }
   ],
   "source": [
    "# Conversao do dicionario em json\n",
    "a = json.dumps(dicionario)\n",
    "print(a)"
   ]
  },
  {
   "cell_type": "code",
   "execution_count": 100,
   "metadata": {},
   "outputs": [],
   "source": [
    "# Escrita\n",
    "with open('../datasets/dados.json', 'w') as arquivo:\n",
    "    escritor = arquivo.write(a)"
   ]
  },
  {
   "cell_type": "code",
   "execution_count": 101,
   "metadata": {},
   "outputs": [
    {
     "name": "stdout",
     "output_type": "stream",
     "text": [
      "{\"Nome\": \"Alexssandro Oliveira\", \"Idade\": 26, \"Profissao\": \"Analista de Sistemas\"}\n"
     ]
    }
   ],
   "source": [
    "# Leitura\n",
    "with open('../datasets/dados.json', 'r') as arquivo:\n",
    "    texto = arquivo.read()\n",
    "    dada = json.loads(texto)\n",
    "    \n",
    "print(texto)"
   ]
  }
 ],
 "metadata": {
  "kernelspec": {
   "display_name": "Python 3",
   "language": "python",
   "name": "python3"
  },
  "language_info": {
   "codemirror_mode": {
    "name": "ipython",
    "version": 3
   },
   "file_extension": ".py",
   "mimetype": "text/x-python",
   "name": "python",
   "nbconvert_exporter": "python",
   "pygments_lexer": "ipython3",
   "version": "3.6.6"
  }
 },
 "nbformat": 4,
 "nbformat_minor": 2
}
