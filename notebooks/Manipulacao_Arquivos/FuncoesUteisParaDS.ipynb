{
 "cells": [
  {
   "cell_type": "markdown",
   "metadata": {},
   "source": [
    "# Funcoes Uteis para Data Science"
   ]
  },
  {
   "cell_type": "markdown",
   "metadata": {},
   "source": [
    "### MAP"
   ]
  },
  {
   "cell_type": "code",
   "execution_count": 1,
   "metadata": {},
   "outputs": [
    {
     "name": "stdout",
     "output_type": "stream",
     "text": [
      "[2, 4, 6, 8, 10]\n"
     ]
    }
   ],
   "source": [
    "# aplica uma funcao para cada elemento de uma lista\n",
    "# pode ser usada com lambda \n",
    "\n",
    "def dobro(numero):\n",
    "    return numero*2\n",
    "\n",
    "lista = [1,2,3,4,5]\n",
    "lista_alterada = map(dobro, lista)\n",
    "\n",
    "print(list(lista_alterada))"
   ]
  },
  {
   "cell_type": "markdown",
   "metadata": {},
   "source": [
    "### REDUCE"
   ]
  },
  {
   "cell_type": "code",
   "execution_count": 2,
   "metadata": {},
   "outputs": [
    {
     "name": "stdout",
     "output_type": "stream",
     "text": [
      "15\n"
     ]
    }
   ],
   "source": [
    "# aplica a funcao aos elementos da sequencia ate que so\n",
    "# sobre um elemento.\n",
    "# movida para o pacote functools\n",
    "\n",
    "from functools import reduce\n",
    "\n",
    "def soma(a,b):\n",
    "    return a+b\n",
    "\n",
    "lista = [1,2,3,4,5]\n",
    "print(reduce(soma, lista))"
   ]
  },
  {
   "cell_type": "markdown",
   "metadata": {},
   "source": [
    "### FILTER "
   ]
  },
  {
   "cell_type": "code",
   "execution_count": 3,
   "metadata": {},
   "outputs": [
    {
     "name": "stdout",
     "output_type": "stream",
     "text": [
      "[2, 4]\n"
     ]
    }
   ],
   "source": [
    "# Recebe dois argumentos , funcao e sequencia\n",
    "# Filtra os elementos da sequencia para elementos da \n",
    "# lista que retorna true.\n",
    "\n",
    "def ispar(n):\n",
    "    return n % 2 == 0\n",
    "\n",
    "lista = [1,2,3,4,5]\n",
    "pares = filter(ispar, lista)\n",
    "\n",
    "print(list(pares))\n"
   ]
  },
  {
   "cell_type": "markdown",
   "metadata": {},
   "source": [
    "### LIST COMPREHENTION"
   ]
  },
  {
   "cell_type": "code",
   "execution_count": 5,
   "metadata": {},
   "outputs": [
    {
     "name": "stdout",
     "output_type": "stream",
     "text": [
      "[2, 4, 6, 8, 10]\n"
     ]
    }
   ],
   "source": [
    "### Melhor performance que map\n",
    "### Repetindo o exemplo do dobro \n",
    "### [RETORNO for VALOR in LISTA]\n",
    "\n",
    "lista = [x*2 for x in [1,2,3,4,5]]\n",
    "print(lista)"
   ]
  },
  {
   "cell_type": "markdown",
   "metadata": {},
   "source": [
    "### ZIP E ENUMERATE"
   ]
  },
  {
   "cell_type": "code",
   "execution_count": 10,
   "metadata": {},
   "outputs": [
    {
     "name": "stdout",
     "output_type": "stream",
     "text": [
      "[(1, 1), (2, 2), (3, 3)]\n",
      "[(0, 'a'), (1, 'b'), (2, 'c'), (3, 'd'), (4, 'e')]\n",
      "0 a\n",
      "1 b\n",
      "2 c\n",
      "3 d\n",
      "4 e\n"
     ]
    }
   ],
   "source": [
    "# ZIP Retorna valores de duas sequencias em tupla\n",
    "# O retorno de ZIP considera a sequencia de menor \n",
    "# valor.\n",
    "\n",
    "print(list(zip([1,2,3,4],[1,2,3])))\n",
    "\n",
    "# Na funcao Enumerate retorna o indice de uma sequencia\n",
    "# de elementos , retorna tuplas com os elementos indexados\n",
    "\n",
    "lista = ['a','b','c','d','e']\n",
    "\n",
    "print(list(enumerate(lista)))\n",
    "\n",
    "# Facilita o for em listas como alternativa ao len\n",
    "\n",
    "for indice, valor in enumerate(lista):\n",
    "    print(indice, valor)\n"
   ]
  }
 ],
 "metadata": {
  "kernelspec": {
   "display_name": "Python 3",
   "language": "python",
   "name": "python3"
  },
  "language_info": {
   "codemirror_mode": {
    "name": "ipython",
    "version": 3
   },
   "file_extension": ".py",
   "mimetype": "text/x-python",
   "name": "python",
   "nbconvert_exporter": "python",
   "pygments_lexer": "ipython3",
   "version": "3.6.6"
  }
 },
 "nbformat": 4,
 "nbformat_minor": 2
}
